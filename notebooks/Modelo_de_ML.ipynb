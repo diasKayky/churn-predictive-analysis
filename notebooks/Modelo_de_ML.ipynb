{
 "cells": [
  {
   "cell_type": "markdown",
   "id": "fdf61b28",
   "metadata": {},
   "source": [
    "# Modelo de ML"
   ]
  },
  {
   "cell_type": "markdown",
   "id": "c719cff2",
   "metadata": {},
   "source": [
    "## Configurações iniciais"
   ]
  },
  {
   "cell_type": "code",
   "execution_count": 32,
   "id": "5b896c76",
   "metadata": {},
   "outputs": [],
   "source": [
    "# Importações de libraries importantes\n",
    "\n",
    "import pandas as pd\n",
    "import numpy as np\n",
    "from sklearn.ensemble import RandomForestClassifier\n",
    "from sklearn.model_selection import GridSearchCV\n",
    "import pickle as pl\n",
    "import matplotlib.pyplot as plt\n",
    "import seaborn as sns\n",
    "from sklearn.metrics import classification_report, accuracy_score, confusion_matrix\n",
    "import lime\n",
    "from lime import lime_tabular"
   ]
  },
  {
   "cell_type": "code",
   "execution_count": 33,
   "id": "dcf44e2c",
   "metadata": {},
   "outputs": [],
   "source": [
    "# Datasets\n",
    "\n",
    "X_train = pl.load(open(\"../dados/x_train.pkl\", \"rb\"))\n",
    "X_test = pl.load(open(\"../dados/x_test.pkl\", \"rb\"))\n",
    "Y_train = pl.load(open(\"../dados/y_train.pkl\", \"rb\"))\n",
    "Y_test = pl.load(open(\"../dados/y_test.pkl\", \"rb\"))\n",
    "# Reshape\n",
    "Y_train = Y_train.reshape(-1)\n",
    "Y_test = Y_test.reshape(-1)"
   ]
  },
  {
   "cell_type": "markdown",
   "id": "7e93c780",
   "metadata": {},
   "source": [
    "## Treinamento"
   ]
  },
  {
   "cell_type": "code",
   "execution_count": 24,
   "id": "502d7aa1",
   "metadata": {},
   "outputs": [],
   "source": [
    "# Modelo de ML\n",
    "params = {\n",
    "    \"n_estimators\": [10, 150, 300, 100, 700,  1000, 1500], \"criterion\": [\"gini\", \"entropy\"], \n",
    "    \"max_features\": [\"sqrt\", \"log2\"]}\n",
    "\n",
    "\n",
    "clf = RandomForestClassifier()\n",
    "\n",
    "grid = GridSearchCV(clf, params)"
   ]
  },
  {
   "cell_type": "code",
   "execution_count": 25,
   "id": "b38e207e",
   "metadata": {},
   "outputs": [
    {
     "data": {
      "text/plain": [
       "GridSearchCV(estimator=RandomForestClassifier(),\n",
       "             param_grid={'criterion': ['gini', 'entropy'],\n",
       "                         'max_features': ['sqrt', 'log2'],\n",
       "                         'n_estimators': [10, 150, 300, 100, 700, 1000, 1500]})"
      ]
     },
     "execution_count": 25,
     "metadata": {},
     "output_type": "execute_result"
    }
   ],
   "source": [
    "grid.fit(X_train, Y_train)"
   ]
  },
  {
   "cell_type": "markdown",
   "id": "ff9e0b36",
   "metadata": {},
   "source": [
    "## Avaliação do Modelo"
   ]
  },
  {
   "cell_type": "code",
   "execution_count": 26,
   "id": "01ce73f1",
   "metadata": {},
   "outputs": [],
   "source": [
    "pred = grid.predict(X_test)"
   ]
  },
  {
   "cell_type": "code",
   "execution_count": 27,
   "id": "dc4fe0ed",
   "metadata": {},
   "outputs": [
    {
     "name": "stdout",
     "output_type": "stream",
     "text": [
      "              precision    recall  f1-score   support\n",
      "\n",
      "           0       0.88      0.99      0.93        94\n",
      "           1       0.99      0.88      0.93       110\n",
      "\n",
      "    accuracy                           0.93       204\n",
      "   macro avg       0.93      0.94      0.93       204\n",
      "weighted avg       0.94      0.93      0.93       204\n",
      "\n"
     ]
    }
   ],
   "source": [
    "# Report de classificação\n",
    "print(classification_report(pred, Y_test))"
   ]
  },
  {
   "cell_type": "code",
   "execution_count": 28,
   "id": "8a14692b",
   "metadata": {},
   "outputs": [
    {
     "name": "stdout",
     "output_type": "stream",
     "text": [
      "A acurácia do modelo é: 0.9313725490196079\n"
     ]
    }
   ],
   "source": [
    "# Acurácia do Modelo\n",
    "print(f\"A acurácia do modelo é: {accuracy_score(pred, Y_test)}\")"
   ]
  },
  {
   "cell_type": "code",
   "execution_count": 29,
   "id": "085b91a9",
   "metadata": {},
   "outputs": [
    {
     "name": "stdout",
     "output_type": "stream",
     "text": [
      "[[93  1]\n",
      " [13 97]]\n"
     ]
    },
    {
     "data": {
      "image/png": "[encoded data removed]",
      "text/plain": [
       "<Figure size 640x480 with 2 Axes>"
      ]
     },
     "metadata": {},
     "output_type": "display_data"
    }
   ],
   "source": [
    "# Matriz de confusão\n",
    "sns.heatmap(confusion_matrix(pred, Y_test), cmap=\"cividis\")\n",
    "print(confusion_matrix(pred, Y_test))"
   ]
  },
  {
   "cell_type": "markdown",
   "id": "095871f5",
   "metadata": {},
   "source": [
    "## Serialização do Modelo"
   ]
  },
  {
   "cell_type": "code",
   "execution_count": 31,
   "id": "0012e280",
   "metadata": {},
   "outputs": [],
   "source": [
    "# Serialização\n",
    "modelo = grid.best_estimator_\n",
    "\n",
    "pl.dump(modelo, open(\"../modelos/modelo.pkl\", \"wb\"))"
   ]
  },
  {
   "cell_type": "code",
   "execution_count": null,
   "id": "abbac06f",
   "metadata": {},
   "outputs": [],
   "source": []
  }
 ],
 "metadata": {
  "kernelspec": {
   "display_name": "Python 3 (ipykernel)",
   "language": "python",
   "name": "python3"
  },
  "language_info": {
   "codemirror_mode": {
    "name": "ipython",
    "version": 3
   },
   "file_extension": ".py",
   "mimetype": "text/x-python",
   "name": "python",
   "nbconvert_exporter": "python",
   "pygments_lexer": "ipython3",
   "version": "3.9.13"
  }
 },
 "nbformat": 4,
 "nbformat_minor": 5
}
