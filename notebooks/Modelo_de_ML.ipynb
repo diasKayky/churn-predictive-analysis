{
 "cells": [
  {
   "cell_type": "markdown",
   "id": "fdf61b28",
   "metadata": {},
   "source": [
    "# Modelo de ML"
   ]
  },
  {
   "cell_type": "markdown",
   "id": "c719cff2",
   "metadata": {},
   "source": [
    "## Configurações iniciais"
   ]
  },
  {
   "cell_type": "code",
   "execution_count": 4,
   "id": "5b896c76",
   "metadata": {},
   "outputs": [],
   "source": [
    "# Importações de libraries importantes\n",
    "\n",
    "import pandas as pd\n",
    "import numpy as np\n",
    "from sklearn.ensemble import RandomForestClassifier\n",
    "from sklearn.model_selection import GridSearchCV\n",
    "import pickle as pl\n",
    "from sklearn.metrics import classification_report"
   ]
  },
  {
   "cell_type": "code",
   "execution_count": 5,
   "id": "dcf44e2c",
   "metadata": {},
   "outputs": [],
   "source": [
    "# Datasets\n",
    "\n",
    "X_train = pl.load(open(\"../dados/x_train.pkl\", \"rb\"))\n",
    "X_test = pl.load(open(\"../dados/x_test.pkl\", \"rb\"))\n",
    "Y_train = pl.load(open(\"../dados/y_train.pkl\", \"rb\"))\n",
    "Y_test = pl.load(open(\"../dados/y_test.pkl\", \"rb\"))\n",
    "\n",
    "Y_train = Y_train.reshape(-1)\n",
    "Y_test = Y_test.reshape(-1)"
   ]
  },
  {
   "cell_type": "code",
   "execution_count": 6,
   "id": "502d7aa1",
   "metadata": {},
   "outputs": [],
   "source": [
    "# Modelo de ML\n",
    "params = {\n",
    "    \"n_estimators\": [10, 100, 1000, 1500], \"criterion\": [\"gini\", \"entropy\"], \n",
    "    \"max_features\": [\"sqrt\", \"log2\"]}\n",
    "\n",
    "\n",
    "clf = RandomForestClassifier()\n",
    "\n",
    "grid = GridSearchCV(clf, params)"
   ]
  },
  {
   "cell_type": "code",
   "execution_count": 7,
   "id": "b38e207e",
   "metadata": {},
   "outputs": [
    {
     "data": {
      "text/plain": [
       "GridSearchCV(estimator=RandomForestClassifier(),\n",
       "             param_grid={'criterion': ['gini', 'entropy'],\n",
       "                         'max_features': ['sqrt', 'log2'],\n",
       "                         'n_estimators': [10, 100, 1000, 1500]})"
      ]
     },
     "execution_count": 7,
     "metadata": {},
     "output_type": "execute_result"
    }
   ],
   "source": [
    "grid.fit(X_train, Y_train)"
   ]
  },
  {
   "cell_type": "code",
   "execution_count": 9,
   "id": "01ce73f1",
   "metadata": {},
   "outputs": [],
   "source": [
    "pred = grid.predict(X_test)"
   ]
  },
  {
   "cell_type": "code",
   "execution_count": 10,
   "id": "dc4fe0ed",
   "metadata": {},
   "outputs": [
    {
     "name": "stdout",
     "output_type": "stream",
     "text": [
      "              precision    recall  f1-score   support\n",
      "\n",
      "           0       0.92      0.94      0.93       101\n",
      "           1       0.81      0.76      0.79        34\n",
      "\n",
      "    accuracy                           0.90       135\n",
      "   macro avg       0.87      0.85      0.86       135\n",
      "weighted avg       0.89      0.90      0.90       135\n",
      "\n"
     ]
    }
   ],
   "source": [
    "print(classification_report(pred, Y_test))"
   ]
  },
  {
   "cell_type": "code",
   "execution_count": null,
   "id": "9019fdc6",
   "metadata": {},
   "outputs": [],
   "source": []
  }
 ],
 "metadata": {
  "kernelspec": {
   "display_name": "Python 3 (ipykernel)",
   "language": "python",
   "name": "python3"
  },
  "language_info": {
   "codemirror_mode": {
    "name": "ipython",
    "version": 3
   },
   "file_extension": ".py",
   "mimetype": "text/x-python",
   "name": "python",
   "nbconvert_exporter": "python",
   "pygments_lexer": "ipython3",
   "version": "3.9.13"
  }
 },
 "nbformat": 4,
 "nbformat_minor": 5
}
